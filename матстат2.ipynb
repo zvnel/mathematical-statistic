{
  "nbformat": 4,
  "nbformat_minor": 0,
  "metadata": {
    "colab": {
      "provenance": []
    },
    "kernelspec": {
      "name": "python3",
      "display_name": "Python 3"
    },
    "language_info": {
      "name": "python"
    }
  },
  "cells": [
    {
      "cell_type": "markdown",
      "source": [
        "Лабораторная работа 2. Вариант 10 Звонарева Е. Е. 408653"
      ],
      "metadata": {
        "id": "DExm1dDbTSYw"
      }
    },
    {
      "cell_type": "code",
      "execution_count": null,
      "metadata": {
        "id": "oUqkPXReTQD7"
      },
      "outputs": [],
      "source": [
        "# установим нужные библиотеки\n",
        "import numpy as np\n",
        "import matplotlib.pyplot as plt\n",
        "from scipy.stats import norm"
      ]
    },
    {
      "cell_type": "code",
      "source": [
        "m = 50 #объем выборки\n",
        "x = [1 , 1 , 1 , 0 , 1 , 0 , 1 , 1 , 0 , 1 ,\n",
        "0 , 1 , 0 , 1 , 1 , 0 , 1 , 0 , 0 , 1 ,\n",
        "1 , 1 , 0 , 0 , 1 , 1 , 1 , 1 , 0 , 1 ,\n",
        "0 , 1 , 1 , 1 , 1 , 0 , 1 , 1 , 1 , 0 ,\n",
        "1 , 0 , 1 , 1 , 1 , 1 , 1 , 0 , 1 , 1] #выборка объема m"
      ],
      "metadata": {
        "id": "HaouPmBBEv0i"
      },
      "execution_count": null,
      "outputs": []
    },
    {
      "cell_type": "code",
      "source": [
        "theta = sum(x)/m #находим параметр тета\n",
        "print(\"Точечная оценка параметра θ методом максимального правдоподобия: θ =\", theta)"
      ],
      "metadata": {
        "colab": {
          "base_uri": "https://localhost:8080/"
        },
        "id": "mEW1f0QnFwj4",
        "outputId": "3b97d5ce-e40e-49d7-cbc7-18c59c5bb062"
      },
      "execution_count": null,
      "outputs": [
        {
          "output_type": "stream",
          "name": "stdout",
          "text": [
            "Точечная оценка параметра θ методом максимального правдоподобия: θ = 0.68\n"
          ]
        }
      ]
    },
    {
      "cell_type": "code",
      "source": [
        "alpha = 0.95\n",
        "c = norm.ppf((1+alpha)/2) #находим квантиль\n",
        "print(\"Квантиль:\", c)"
      ],
      "metadata": {
        "colab": {
          "base_uri": "https://localhost:8080/"
        },
        "id": "coPOSvRSHFjD",
        "outputId": "3cb599a2-36e7-4a52-e843-4a1399e8f08b"
      },
      "execution_count": null,
      "outputs": [
        {
          "output_type": "stream",
          "name": "stdout",
          "text": [
            "Квантиль: 1.959963984540054\n"
          ]
        }
      ]
    },
    {
      "cell_type": "code",
      "source": [
        "T1 = (2*m*theta-np.sqrt((2*m*theta+c*c)**2-4*(m+c*c)*m*theta*theta))/(2*(m+c*c)) #левая граница\n",
        "T2 = (2*m*theta+np.sqrt((2*m*theta+c*c)**2-4*(m+c*c)*m*theta*theta))/(2*(m+c*c)) #правая граница\n",
        "print(\"Доверительный интервал:\", T1, T2)"
      ],
      "metadata": {
        "colab": {
          "base_uri": "https://localhost:8080/"
        },
        "id": "NV0bK2YrmNcG",
        "outputId": "dad29c07-80c3-4f4b-c403-ce162cc9df50"
      },
      "execution_count": null,
      "outputs": [
        {
          "output_type": "stream",
          "name": "stdout",
          "text": [
            "Доверительный интервал: 0.5062232273518802 0.7567440378267518\n"
          ]
        }
      ]
    }
  ]
}