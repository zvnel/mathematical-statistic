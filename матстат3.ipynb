{
  "nbformat": 4,
  "nbformat_minor": 0,
  "metadata": {
    "colab": {
      "provenance": []
    },
    "kernelspec": {
      "name": "python3",
      "display_name": "Python 3"
    },
    "language_info": {
      "name": "python"
    }
  },
  "cells": [
    {
      "cell_type": "markdown",
      "source": [
        "Лабораторная работа 3. Вариант 10 Звонарева Е. Е. 408653"
      ],
      "metadata": {
        "id": "nHoZg8fG4ab3"
      }
    },
    {
      "cell_type": "code",
      "source": [
        "# установим нужные библиотеки\n",
        "import numpy as np\n",
        "from scipy.stats import chi2"
      ],
      "metadata": {
        "id": "osQRZcJv4jBj"
      },
      "execution_count": null,
      "outputs": []
    },
    {
      "cell_type": "code",
      "source": [
        "# дано\n",
        "# выборка\n",
        "x = np.array([\n",
        "    0.4, 0.37, 0.15, 0.0, 1.18, 0.23, 0.11, 0.39, 2.02, 1.59,\n",
        "    0.03, 0.02, 0.11, 0.54, 0.16, 0.65, 0.07, 0.29, 0.81, 0.5,\n",
        "    0.31, 0.12, 0.29, 0.36, 0.86, 0.84, 0.2, 0.45, 0.01, 0.27,\n",
        "    0.19, 0.32, 0.23, 0.19, 0.52, 0.84, 0.29, 0.66, 0.08, 0.31,\n",
        "    0.11, 0.05, 1.47, 0.26, 0.19, 0.23, 0.63, 0.23, 0.58, 0.81,\n",
        "    4.35, 0.58, 0.56, 0.07, 0.09, 0.12, 0.11, 0.44, 0.57, 0.16,\n",
        "    0.46, 0.5, 0.07, 0.75, 0.37, 0.45, 0.08, 0.47, 0.15, 0.02,\n",
        "    0.02, 0.72, 0.36, 0.16, 0.21, 0.02, 0.27, 0.28, 1.4, 0.54,\n",
        "    0.14, 0.54, 1.3, 0.63, 0.13, 0.9, 1.1, 0.06, 0.26, 0.97,\n",
        "    0.04, 1.17, 0.47, 0.73, 0.27, 0.21, 0.15, 0.07, 0.01, 0.22\n",
        "])\n",
        "lambd = 1.62       # параметр экспоненциального распределения\n",
        "epsilon = 0.05     # уровень значимости\n",
        "k = 10             # число равных по длине интервалов\n",
        "n = len(x)         # объем выборки"
      ],
      "metadata": {
        "id": "W-5S6QTn49M_"
      },
      "execution_count": null,
      "outputs": []
    },
    {
      "cell_type": "code",
      "source": [
        "# разобьем на интервалы\n",
        "x_left = np.min(x) # минимум\n",
        "x_right = np.max(x) # максимум\n",
        "h = (x_right - x_left) / k # ширина одного интервала\n",
        "intervals = [x_left + i*h for i in range(k + 1)]\n",
        "for i in range(k):\n",
        "    print(\"Интервал \" + str(i + 1) + \": [\" +\n",
        "          str(round(intervals[i], 3)) + \", \" +\n",
        "          str(round(intervals[i + 1], 3)) + \")\")"
      ],
      "metadata": {
        "colab": {
          "base_uri": "https://localhost:8080/"
        },
        "id": "vRtTQ09z56A0",
        "outputId": "258423af-b32a-4a58-ec82-4ecbc597efeb"
      },
      "execution_count": null,
      "outputs": [
        {
          "output_type": "stream",
          "name": "stdout",
          "text": [
            "Интервал 1: [0.0, 0.435)\n",
            "Интервал 2: [0.435, 0.87)\n",
            "Интервал 3: [0.87, 1.305)\n",
            "Интервал 4: [1.305, 1.74)\n",
            "Интервал 5: [1.74, 2.175)\n",
            "Интервал 6: [2.175, 2.61)\n",
            "Интервал 7: [2.61, 3.045)\n",
            "Интервал 8: [3.045, 3.48)\n",
            "Интервал 9: [3.48, 3.915)\n",
            "Интервал 10: [3.915, 4.35)\n"
          ]
        }
      ]
    },
    {
      "cell_type": "code",
      "source": [
        "# практический размер интервалов\n",
        "practical = np.zeros(k, dtype=int)\n",
        "for x in x:\n",
        "    for i in range(k):\n",
        "        if intervals[i] <= x < intervals[i + 1]:\n",
        "            practical[i] += 1\n",
        "            break\n",
        "    else:\n",
        "        if x == intervals[-1]:\n",
        "            practical[-1] += 1\n",
        "\n",
        "print(\"\\nПрактические частоты:\", practical)"
      ],
      "metadata": {
        "colab": {
          "base_uri": "https://localhost:8080/"
        },
        "id": "6rcqz1Su9SXK",
        "outputId": "b6af2219-a55f-431c-cf63-84eb26e0f583"
      },
      "execution_count": null,
      "outputs": [
        {
          "output_type": "stream",
          "name": "stdout",
          "text": [
            "\n",
            "Практические частоты: [61 28  6  3  1  0  0  0  0  1]\n"
          ]
        }
      ]
    },
    {
      "cell_type": "code",
      "source": [
        "# функция распределения экспоненциального закона\n",
        "def F_exp(x, lam):\n",
        "    return 1 - np.exp(-lam * x)\n",
        "\n",
        "# теоретические размеры интервалов\n",
        "theory_prob = np.array([\n",
        "    F_exp(intervals[i + 1], lambd) - F_exp(intervals[i], lambd)\n",
        "    for i in range(k)\n",
        "])\n",
        "theory = theory_prob * n\n",
        "\n",
        "print(\"Теоретичесике частоты:\", np.round(theory, 3))\n",
        "\n"
      ],
      "metadata": {
        "colab": {
          "base_uri": "https://localhost:8080/"
        },
        "id": "YAgAdWay96OE",
        "outputId": "02b2c678-7589-4483-e740-58372057cf24"
      },
      "execution_count": null,
      "outputs": [
        {
          "output_type": "stream",
          "name": "stdout",
          "text": [
            "Теоретичесике частоты: [50.574 24.997 12.355  6.106  3.018  1.492  0.737  0.364  0.18   0.089]\n"
          ]
        }
      ]
    },
    {
      "cell_type": "code",
      "source": [
        "# Расчет хи-квадрат\n",
        "chi_sq = np.sum((practical - theory) ** 2 / theory)\n",
        "print(\"Статистика хи-квадрат:\", np.round(chi_sq, 3))\n",
        "\n",
        "df = k - 1\n",
        "\n",
        "# Критическое значение\n",
        "critical_value = chi2.ppf(1 - epsilon, df)\n",
        "p_value = 1 - chi2.cdf(chi_sq, df)\n",
        "\n",
        "print(f\"Критическое значение при α={epsilon}: {critical_value:.3f}\")"
      ],
      "metadata": {
        "colab": {
          "base_uri": "https://localhost:8080/"
        },
        "id": "pca0PJ4x8ZV3",
        "outputId": "04624d33-1814-4361-fe5e-a115f91780dd"
      },
      "execution_count": null,
      "outputs": [
        {
          "output_type": "stream",
          "name": "stdout",
          "text": [
            "Статистика хи-квадрат: 20.804\n",
            "Критическое значение при α=0.05: 16.919\n"
          ]
        }
      ]
    },
    {
      "cell_type": "code",
      "source": [
        "# вывод о проверке гипотизы\n",
        "if chi_sq < critical_value:\n",
        "    print(\"Вывод: гипотеза H0 не отвергается — данные соответствуют экспоненциальному распределению\")\n",
        "else:\n",
        "    print(\"Вывод: гипотеза H0 отвергается — данные не соответствуют экспоненциальному распределению\")"
      ],
      "metadata": {
        "colab": {
          "base_uri": "https://localhost:8080/"
        },
        "id": "L-jBzeI07nQi",
        "outputId": "3c4f25f4-be41-45bf-85dd-fd08b881b838"
      },
      "execution_count": null,
      "outputs": [
        {
          "output_type": "stream",
          "name": "stdout",
          "text": [
            "Вывод: гипотеза H0 отвергается — данные не соответствуют экспоненциальному распределению\n"
          ]
        }
      ]
    }
  ]
}